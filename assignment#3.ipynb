{
 "cells": [
  {
   "cell_type": "code",
   "execution_count": 1,
   "id": "85999760",
   "metadata": {},
   "outputs": [
    {
     "name": "stdout",
     "output_type": "stream",
     "text": [
      "Twinkle, twinkle, little star,\n",
      "         How I wonder what you are!\n",
      "                Up above the world so high,\n",
      "                Like a diamond in the sky.\n",
      "Twinkle, twinkle, little star,\n",
      "         How I wonder what you are\n"
     ]
    }
   ],
   "source": [
    "#1. Write a Python program to print the following string in a specific format (see the\n",
    "#output).\n",
    "\n",
    "#Twinkle, twinkle, little star,\n",
    "#         How I wonder what you are!\n",
    "#                Up above the world so high,\n",
    "#                Like a diamond in the sky.\n",
    "\n",
    "#Twinkle, twinkle, little star,\n",
    "#         How I wonder what you are\n",
    "print(\"Twinkle, twinkle, little star,\");\n",
    "print(\"         How I wonder what you are!\")\n",
    "print(\"                Up above the world so high,\")\n",
    "print(\"                Like a diamond in the sky.\")\n",
    "print(\"Twinkle, twinkle, little star,\");\n",
    "print(\"         How I wonder what you are\");\n",
    "\n",
    "\n",
    "\n",
    "\n"
   ]
  },
  {
   "cell_type": "code",
   "execution_count": 3,
   "id": "9ac73fc0",
   "metadata": {},
   "outputs": [
    {
     "name": "stdout",
     "output_type": "stream",
     "text": [
      "python version\n",
      "3.8.8 (default, Apr 13 2021, 15:08:03) [MSC v.1916 64 bit (AMD64)]\n"
     ]
    }
   ],
   "source": [
    "#2. Write a Python program to get the Python version you are using\n",
    "\n",
    "import sys\n",
    "print(\"python version\");\n",
    "print(sys.version)"
   ]
  },
  {
   "cell_type": "code",
   "execution_count": 9,
   "id": "4dd64052",
   "metadata": {},
   "outputs": [
    {
     "name": "stdout",
     "output_type": "stream",
     "text": [
      "2021-10-23 08:53:16.943847\n"
     ]
    }
   ],
   "source": [
    "#3. Write a Python program to display the current date and time.\n",
    "\n",
    "import datetime \n",
    "Time = datetime.datetime.now() \n",
    "print (Time)"
   ]
  },
  {
   "cell_type": "code",
   "execution_count": 17,
   "id": "75d67be8",
   "metadata": {},
   "outputs": [
    {
     "name": "stdout",
     "output_type": "stream",
     "text": [
      "write radius of circle : 2\n",
      "the Area is :  25.12\n"
     ]
    }
   ],
   "source": [
    "#4. Write a Python program which accepts the radius of a circle from the user and compute\n",
    "#the area.\n",
    "pi = (3.14)*2\n",
    "r = int(input(\"write radius of circle : \"))\n",
    "R = r*r\n",
    "area = pi*R\n",
    "print(\"the Area is : \",area)"
   ]
  },
  {
   "cell_type": "code",
   "execution_count": 19,
   "id": "ed4f9191",
   "metadata": {},
   "outputs": [
    {
     "name": "stdout",
     "output_type": "stream",
     "text": [
      "write first name: sabtain\n",
      "write last name : ishaq\n",
      "ishaq sabtain\n"
     ]
    }
   ],
   "source": [
    "#5. Write a Python program which accepts the user's first and last name and print them in\n",
    "#reverse order with a space between them.\n",
    "first_name = input(\"write first name: \")\n",
    "last_name = input(\"write last name : \")\n",
    "print(last_name +\" \" + first_name )"
   ]
  },
  {
   "cell_type": "code",
   "execution_count": 20,
   "id": "d5a3c947",
   "metadata": {},
   "outputs": [
    {
     "name": "stdout",
     "output_type": "stream",
     "text": [
      "write a number : 4\n",
      "write a second number : 3\n",
      "the sum of number is :  7\n"
     ]
    }
   ],
   "source": [
    "#6. Write a python program which takes two inputs from user and print them addition.\n",
    "f = int(input(\"write a number : \"))\n",
    "m = int(input(\"write a second number : \"))\n",
    "print(\"the sum of number is : \",m+f)"
   ]
  },
  {
   "cell_type": "code",
   "execution_count": 38,
   "id": "13547c74",
   "metadata": {},
   "outputs": [
    {
     "name": "stdout",
     "output_type": "stream",
     "text": [
      "write the marks of English : 60\n",
      "write the marks of Urdu : 50\n",
      "write the marks of Islamiat : 79\n",
      "write the marks of Chemistry : 87\n",
      "write the marks of Physics : 65\n",
      "you get B grade \n"
     ]
    }
   ],
   "source": [
    "#7. Write a program which takes 5 inputs from user for different subject’s marks, total it \n",
    "#and generate mark sheet using grades ?\n",
    "english = int(input(\"write the marks of English : \"))\n",
    "if english<33:\n",
    "    print(\"you are fail in it\")\n",
    "Urdu = int(input(\"write the marks of Urdu : \"))\n",
    "if Urdu<33:\n",
    "    print(\"you are fail in it\")\n",
    "Islamiat = int(input(\"write the marks of Islamiat : \"))\n",
    "if Islamiat<33:\n",
    "    print(\"you are fail in it\")\n",
    "Chemistry = int(input(\"write the marks of Chemistry : \"))\n",
    "if Chemistry<33:\n",
    "     print(\"you are fail in it\")\n",
    "Physics = int(input(\"write the marks of Physics : \"))\n",
    "if Physics<33:\n",
    "    print(\"you are fail in it\")\n",
    "total = english + Urdu + Islamiat + Chemistry + Physics\n",
    "D =33\n",
    "C =50\n",
    "B=60\n",
    "A=70\n",
    "Aplus=80\n",
    "ttl = (total/500)*100\n",
    "    \n",
    "if ttl >= Aplus:\n",
    "    print(\"you get A+ grade \")\n",
    "elif ttl>=A :\n",
    "    print(\"you get A grade \")\n",
    "elif ttl>=B  :\n",
    "    print(\"you get B grade \")\n",
    "elif ttl>=C :\n",
    "    print(\"you get C grade \")\n",
    "elif ttl>=D :\n",
    "    print(\"you get D grade \")\n",
    "    \n",
    "elif ttl<D :\n",
    "    print(\"you are fail :  \")\n",
    "\n",
    "    \n"
   ]
  },
  {
   "cell_type": "code",
   "execution_count": 40,
   "id": "117c7a06",
   "metadata": {},
   "outputs": [
    {
     "name": "stdout",
     "output_type": "stream",
     "text": [
      "write a number for chacking even and odd : 5\n",
      "it is odd :  5\n"
     ]
    }
   ],
   "source": [
    "#8. Write a program which take input from user and identify that the given number is even\n",
    "#or odd?\n",
    "m = int(input(\"write a number for chacking even and odd : \"))\n",
    "n = m % 2\n",
    "if n==0:\n",
    "    print(\"it is even number : \",m)\n",
    "else:\n",
    "    print(\"it is odd : \", m)"
   ]
  },
  {
   "cell_type": "code",
   "execution_count": 44,
   "id": "a0bdf5f6",
   "metadata": {},
   "outputs": [
    {
     "name": "stdout",
     "output_type": "stream",
     "text": [
      "5\n"
     ]
    }
   ],
   "source": [
    "#9. Write a program which print the length of the list?\n",
    "arr=[\"banana\",\"apple\",\"cycle\",\"toy\",\"boy\"]\n",
    "print(len(arr))"
   ]
  },
  {
   "cell_type": "code",
   "execution_count": 55,
   "id": "69427dac",
   "metadata": {},
   "outputs": [
    {
     "name": "stdout",
     "output_type": "stream",
     "text": [
      "82\n"
     ]
    }
   ],
   "source": [
    "#10.Write a Python program to sum all the numeric items in a list?\n",
    "ARR = [1,3,6,8,9,8,6,5,4,32]\n",
    "sum=0\n",
    "for i in ARR:\n",
    "    sum = sum + i;\n",
    "print(sum)"
   ]
  },
  {
   "cell_type": "code",
   "execution_count": 56,
   "id": "ad794530",
   "metadata": {},
   "outputs": [
    {
     "name": "stdout",
     "output_type": "stream",
     "text": [
      "32\n"
     ]
    }
   ],
   "source": [
    "#11.Write a Python program to get the largest number from a numeric list.\n",
    "ARR = [1,3,6,8,9,8,6,5,4,32]\n",
    "sum=0\n",
    "for i in ARR:\n",
    "    if sum<i:\n",
    "        sum = i;\n",
    "print(sum)"
   ]
  },
  {
   "cell_type": "code",
   "execution_count": 58,
   "id": "93e3f926",
   "metadata": {},
   "outputs": [
    {
     "name": "stdout",
     "output_type": "stream",
     "text": [
      "[1, 1, 2, 3]\n"
     ]
    }
   ],
   "source": [
    "#12. Take a list, say for example this one:\n",
    "a = [1, 1, 2, 3, 5, 8, 13, 21, 34, 55, 89]\n",
    "#Write a program that prints out all the elements of the list that are less than 5.\n",
    "q=[]\n",
    "for i in a:\n",
    "    if i<5:\n",
    "        q.append(i)\n",
    "print(q)"
   ]
  },
  {
   "cell_type": "code",
   "execution_count": null,
   "id": "e3fbaf88",
   "metadata": {},
   "outputs": [],
   "source": []
  }
 ],
 "metadata": {
  "kernelspec": {
   "display_name": "Python 3",
   "language": "python",
   "name": "python3"
  },
  "language_info": {
   "codemirror_mode": {
    "name": "ipython",
    "version": 3
   },
   "file_extension": ".py",
   "mimetype": "text/x-python",
   "name": "python",
   "nbconvert_exporter": "python",
   "pygments_lexer": "ipython3",
   "version": "3.8.8"
  }
 },
 "nbformat": 4,
 "nbformat_minor": 5
}
