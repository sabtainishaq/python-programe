{
 "cells": [
  {
   "cell_type": "code",
   "execution_count": 7,
   "id": "c098aa73",
   "metadata": {},
   "outputs": [
    {
     "name": "stdout",
     "output_type": "stream",
     "text": [
      "Enter the number for operation : 5\n",
      "If you want to do power operation then write '1'. \n",
      " if you want to do simple calculation then write '0' : 1\n",
      "Enter the power value : 5\n",
      "your answer of power of 5 ^ 5 is :  3125\n"
     ]
    }
   ],
   "source": [
    "#1. Make a calculator using Python with addition , subtraction ,multiplication ,division and power.\n",
    "\n",
    "num1 = int(input(\"Enter the number for operation : \"))\n",
    "power = input(\"If you want to do power operation then write '1'. \\n if you want to do simple calculation then write '0' : \")\n",
    "if power == \"1\":\n",
    "    poor = int(input(\"Enter the power value : \"))\n",
    "    expon = 1\n",
    "    \n",
    "    for i in range(1,poor+1):\n",
    "        expon = expon*num1\n",
    "    print(\"your answer of power of\",num1,\"^\",poor,\"is : \",expon)\n",
    "\n",
    "elif power == \"0\":\n",
    "    operator = input(\"Enter operator : \")\n",
    "    if operator == \"+\" or \"-\" or \"/\" or \"*\":\n",
    "        num2 = int(input(\"Enter the second number for operation : \"))\n",
    "        if operator == \"+\":\n",
    "            total = num1 + num2\n",
    "        elif operator == \"-\":\n",
    "            total = num1 - num2\n",
    "        elif operator == \"/\":\n",
    "            total = num1 / num2\n",
    "        elif operator == \"*\":\n",
    "            total = num1 * num2\n",
    "    print(\"your answer is : \",total)"
   ]
  },
  {
   "cell_type": "code",
   "execution_count": 9,
   "id": "f555c1db",
   "metadata": {},
   "outputs": [
    {
     "name": "stdout",
     "output_type": "stream",
     "text": [
      "6\n"
     ]
    }
   ],
   "source": [
    "#2. Write a program to check if there is any numeric value in list using for loop.\n",
    "list = [\"mehonga\",\"terisunni\",6,\"tantantanatan\"]\n",
    "for i in list :\n",
    "    if type(i) == int:\n",
    "        print(i)"
   ]
  },
  {
   "cell_type": "code",
   "execution_count": 12,
   "id": "e958b1d6",
   "metadata": {},
   "outputs": [
    {
     "name": "stdout",
     "output_type": "stream",
     "text": [
      "{1: 'sabtain', 2: 'ishaq'}\n",
      "{1: 'sabtain', 2: 'ishaq', 3: 'khan'}\n"
     ]
    }
   ],
   "source": [
    "#3. Write a Python script to add a key to a dictionary.\n",
    "dic = {1 :\"sabtain\" , 2 : \"ishaq\"}\n",
    "print(dic)\n",
    "dic.update({3 : \"khan\"})\n",
    "print(dic)\n"
   ]
  },
  {
   "cell_type": "code",
   "execution_count": 15,
   "id": "e58fbbcc",
   "metadata": {},
   "outputs": [
    {
     "name": "stdout",
     "output_type": "stream",
     "text": [
      "12\n"
     ]
    }
   ],
   "source": [
    "#4. Write a Python program to sum all the numeric items in a dictionary.\n",
    "dic = {1 : 5 , 2 : 4 , 3 : 3}\n",
    "print(sum(dic.values()))"
   ]
  },
  {
   "cell_type": "code",
   "execution_count": 16,
   "id": "d4fef976",
   "metadata": {},
   "outputs": [
    {
     "name": "stdout",
     "output_type": "stream",
     "text": [
      "2\n",
      "3\n",
      "4\n",
      "5\n"
     ]
    }
   ],
   "source": [
    "#5. Write a program to identify duplicate values from list.\n",
    "l=[1,2,3,4,5,2,3,4,7,9,5]\n",
    "l1=[]\n",
    "for i in l:\n",
    "    if i not in l1:\n",
    "        l1.append(i)\n",
    "    else:\n",
    "        print(i)"
   ]
  },
  {
   "cell_type": "code",
   "execution_count": 20,
   "id": "4165a3f4",
   "metadata": {},
   "outputs": [
    {
     "name": "stdout",
     "output_type": "stream",
     "text": [
      "enter number10\n",
      "Key is not present in the dictionary\n"
     ]
    }
   ],
   "source": [
    "#6. Write a Python script to check if a given key already exists in a dictionary\n",
    "\n",
    "x = int(input(\"enter number\"))\n",
    "d = {1: 10, 2: 20, 3: 30, 4: 40, 5: 50, 6: 60}\n",
    "def is_key_present(x):\n",
    "    if x in d:\n",
    "        print('Key is present in the dictionary')\n",
    "    else:\n",
    "        print('Key is not present in the dictionary')\n",
    "is_key_present(x)"
   ]
  },
  {
   "cell_type": "code",
   "execution_count": null,
   "id": "3f3c5b9b",
   "metadata": {},
   "outputs": [],
   "source": []
  },
  {
   "cell_type": "code",
   "execution_count": null,
   "id": "8bd92b03",
   "metadata": {},
   "outputs": [],
   "source": []
  }
 ],
 "metadata": {
  "kernelspec": {
   "display_name": "Python 3",
   "language": "python",
   "name": "python3"
  },
  "language_info": {
   "codemirror_mode": {
    "name": "ipython",
    "version": 3
   },
   "file_extension": ".py",
   "mimetype": "text/x-python",
   "name": "python",
   "nbconvert_exporter": "python",
   "pygments_lexer": "ipython3",
   "version": "3.8.8"
  }
 },
 "nbformat": 4,
 "nbformat_minor": 5
}
